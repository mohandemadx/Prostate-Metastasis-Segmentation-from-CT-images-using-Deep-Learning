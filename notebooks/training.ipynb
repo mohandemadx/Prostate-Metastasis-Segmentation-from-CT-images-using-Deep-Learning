{
 "cells": [
  {
   "cell_type": "code",
   "execution_count": 1,
   "metadata": {},
   "outputs": [],
   "source": [
    "dataset_path = '../Prostate Dataset'\n",
    "out_dir_img = '../output_dir/images'\n",
    "out_dir_mask = '../output_dir/masks'\n",
    "temp_dir = '../temp/'"
   ]
  },
  {
   "cell_type": "code",
   "execution_count": 6,
   "metadata": {},
   "outputs": [
    {
     "name": "stdout",
     "output_type": "stream",
     "text": [
      "Writing file to ../temp/mask_0.dcm\n"
     ]
    }
   ],
   "source": [
    "from platipy.imaging import ImageVisualiser\n",
    "from platipy.imaging.tests.data import download_and_extract_zip_file\n",
    "from platipy.dicom.io.rtstruct_to_nifti import convert_rtstruct\n",
    "from rt_utils import RTStructBuilder\n",
    "import os\n",
    "\n",
    "from rt_utils import RTStructBuilder\n",
    "import SimpleITK as sitk\n",
    "\n",
    "def read_dicom_image_to_sitk(img_path):\n",
    "  reader = sitk.ImageSeriesReader()\n",
    "\n",
    "  dicom_names = reader.GetGDCMSeriesFileNames(str(img_path))\n",
    "  reader.SetFileNames(dicom_names)\n",
    "\n",
    "  image = reader.Execute()\n",
    "\n",
    "  return image\n",
    "\n",
    "def extracted_prostate(rtstruct_path, dicom_path, ROI_name, out_path, index):\n",
    "    # Load existing RT Struct. Requires the series path and existing RT Struct path\n",
    "    rtstruct = RTStructBuilder.create_from(\n",
    "      dicom_series_path=dicom_path, \n",
    "      rt_struct_path=rtstruct_path\n",
    "    )\n",
    "\n",
    "    prostate_rtstruct = RTStructBuilder.create_new(\n",
    "      dicom_series_path=dicom_path,\n",
    "    )\n",
    "\n",
    "\n",
    "    # Loading the 3D Mask from within the RT Struct\n",
    "    mask_3d = rtstruct.get_roi_mask_by_name(ROI_name)\n",
    "\n",
    "    prostate_rtstruct.add_roi(mask_3d, name=ROI_name)\n",
    "    \n",
    "    location = f'mask_{index}'\n",
    "    output = os.path.join(out_path, location)\n",
    "    prostate_rtstruct.save(output)\n",
    "    \n",
    "    return output + '.dcm'\n",
    "  \n",
    "\n",
    "folders = [name for name in os.listdir(dataset_path) if os.path.isdir(os.path.join(dataset_path, name))]\n",
    "\n",
    "\n",
    "for index,folder in enumerate(folders):\n",
    "    first_level_folder_path = os.path.join(dataset_path, folder)\n",
    "    \n",
    "    # Find second-level folders within each first-level folder\n",
    "    second_level_folders = [name for name in os.listdir(first_level_folder_path) if os.path.isdir(os.path.join(first_level_folder_path, name))]\n",
    "\n",
    "    # Loop over each second-level folder\n",
    "    for subfolder in second_level_folders:\n",
    "        second_level_folder_path = os.path.join(first_level_folder_path, subfolder)\n",
    "        \n",
    "        # Initialize paths for contour and image data\n",
    "        contour_path = None\n",
    "        image_path = None\n",
    "        \n",
    "        # Search for contour and image files in the second-level folder\n",
    "        for file_name in os.listdir(second_level_folder_path):\n",
    "            file_path = os.path.join(second_level_folder_path, file_name)\n",
    "            \n",
    "            # Adjust these conditions based on file naming\n",
    "            if os.path.isdir(file_path) and 'contouring' in file_name.lower():\n",
    "                for contour_file in os.listdir(file_path):\n",
    "                    contour_path = os.path.join(file_path, contour_file)\n",
    "                    break\n",
    "\n",
    "            elif 'pelvis' in file_name.lower():\n",
    "                image_path = file_path\n",
    "        \n",
    "        # Print or store the paths\n",
    "        if contour_path and image_path:\n",
    "\n",
    "            rtstruct_file = extracted_prostate(contour_path,image_path,'Prostate', temp_dir, index)\n",
    "            mask = f'mask{index}'\n",
    "            convert_rtstruct(dcm_img = image_path, dcm_rt_file = rtstruct_file, prefix=mask, output_dir= out_dir_mask)\n",
    "            \n",
    "            image_data = read_dicom_image_to_sitk(image_path)\n",
    "            out_file = os.path.join(out_dir_img, f'image_{index}.nii.gz')\n",
    "            sitk.WriteImage(image_data, str(out_file))\n",
    "            "
   ]
  }
 ],
 "metadata": {
  "kernelspec": {
   "display_name": "Python 3",
   "language": "python",
   "name": "python3"
  },
  "language_info": {
   "codemirror_mode": {
    "name": "ipython",
    "version": 3
   },
   "file_extension": ".py",
   "mimetype": "text/x-python",
   "name": "python",
   "nbconvert_exporter": "python",
   "pygments_lexer": "ipython3",
   "version": "3.12.5"
  }
 },
 "nbformat": 4,
 "nbformat_minor": 2
}
