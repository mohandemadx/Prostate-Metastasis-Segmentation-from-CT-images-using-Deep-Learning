{
 "cells": [
  {
   "cell_type": "code",
   "execution_count": 1,
   "metadata": {},
   "outputs": [],
   "source": [
    "import os\n",
    "import SimpleITK as sitk\n",
    "from rt_utils import RTStructBuilder\n",
    "import numpy as np\n",
    "from tqdm import tqdm"
   ]
  },
  {
   "cell_type": "code",
   "execution_count": 2,
   "metadata": {},
   "outputs": [],
   "source": [
    "# Function to read the DICOM series into a SimpleITK image\n",
    "def read_dicom_image_to_sitk(img_path):\n",
    "    reader = sitk.ImageSeriesReader()\n",
    "    dicom_names = reader.GetGDCMSeriesFileNames(str(img_path))\n",
    "    reader.SetFileNames(dicom_names)\n",
    "    image = reader.Execute()\n",
    "    return image\n",
    "\n",
    "# Function to extract prostate contour and calculate number of slices with prostate\n",
    "def extract_prostate_contour(rtstruct_path, dicom_path, ROI_name='Prostate'):\n",
    "    # Load RT Struct from file and extract prostate mask\n",
    "    rtstruct = RTStructBuilder.create_from(dicom_series_path=dicom_path, rt_struct_path=rtstruct_path)\n",
    "    mask_3d = rtstruct.get_roi_mask_by_name(ROI_name)\n",
    "    return mask_3d\n",
    "\n"
   ]
  },
  {
   "cell_type": "code",
   "execution_count": 3,
   "metadata": {},
   "outputs": [],
   "source": [
    "# Function to calculate the number of patients, slices, and prostate slices\n",
    "def calculate_patient_statistics(dataset_path, contour_names=['contouring', 'structure sets'], image_names=['pelvis', 'prostate', 'images']):\n",
    "    patients = {}\n",
    "    total_patients = 0\n",
    "    total_slices_per_patient = {}\n",
    "    prostate_slices_per_patient = {}\n",
    "\n",
    "    # Iterate through all first-level folders (representing patients)\n",
    "    folders = [name for name in os.listdir(dataset_path) if os.path.isdir(os.path.join(dataset_path, name))]\n",
    "\n",
    "    for index, folder in tqdm(enumerate(folders), total=len(folders)):\n",
    "        first_level_folder_path = os.path.join(dataset_path, folder)\n",
    "\n",
    "        # Find second-level folders within each first-level folder\n",
    "        second_level_folders = [name for name in os.listdir(first_level_folder_path) if os.path.isdir(os.path.join(first_level_folder_path, name))]\n",
    "\n",
    "        for subfolder in second_level_folders:\n",
    "            second_level_folder_path = os.path.join(first_level_folder_path, subfolder)\n",
    "            \n",
    "            # Initialize paths for contour and image data\n",
    "            contour_path = None\n",
    "            image_path = None\n",
    "\n",
    "            # Search for contour and image files in the second-level folder\n",
    "            for file_name in os.listdir(second_level_folder_path):\n",
    "                file_path = os.path.join(second_level_folder_path, file_name)\n",
    "\n",
    "                if os.path.isdir(file_path) and any(name in file_name.lower() for name in contour_names):\n",
    "                    for contour_file in os.listdir(file_path):\n",
    "                        contour_path = os.path.join(file_path, contour_file)\n",
    "                        contour_path = os.path.normpath(contour_path)\n",
    "                        break\n",
    "\n",
    "                elif any(name in file_name.lower() for name in image_names):\n",
    "                    image_path = os.path.normpath(file_path)\n",
    "            \n",
    "            # Process if both contour and image paths are found\n",
    "            if contour_path and image_path:\n",
    "                try:\n",
    "                    # Load DICOM image and RT Struct to extract prostate mask\n",
    "                    mask_3d = extract_prostate_contour(contour_path, image_path)\n",
    "\n",
    "                    # Count number of slices in the CT image\n",
    "                    image_data = read_dicom_image_to_sitk(image_path)\n",
    "                    total_slices = image_data.GetSize()[2]  # Number of slices (Z dimension)\n",
    "\n",
    "                    # Count slices with prostate\n",
    "                    prostate_slices = 0\n",
    "                    for slice_index in range(total_slices):\n",
    "                        slice_mask = mask_3d[:, :, slice_index]  # Get the 2D slice mask\n",
    "                        if np.any(slice_mask > 0):  # Prostate is present in the slice\n",
    "                            prostate_slices += 1\n",
    "\n",
    "                    # Store the results\n",
    "                    total_patients += 1\n",
    "                    total_slices_per_patient[folder] = total_slices\n",
    "                    prostate_slices_per_patient[folder] = prostate_slices\n",
    "\n",
    "                except Exception as e:\n",
    "                    print(f\"Error processing folder {second_level_folder_path}: {e}\")\n",
    "    \n",
    "    return total_patients, total_slices_per_patient, prostate_slices_per_patient"
   ]
  },
  {
   "cell_type": "code",
   "execution_count": 4,
   "metadata": {},
   "outputs": [
    {
     "name": "stderr",
     "output_type": "stream",
     "text": [
      " 55%|█████▍    | 69/126 [04:51<03:01,  3.18s/it]"
     ]
    },
    {
     "name": "stdout",
     "output_type": "stream",
     "text": [
      "Error processing folder ../Dataset\\Prostate-AEC-072\\01-20-2004-NA-RX SIMULATION-39006: 'Dataset' object has no attribute 'ContourSequence'\n"
     ]
    },
    {
     "name": "stderr",
     "output_type": "stream",
     "text": [
      " 73%|███████▎  | 92/126 [06:13<01:24,  2.48s/it]"
     ]
    },
    {
     "name": "stdout",
     "output_type": "stream",
     "text": [
      "Error processing folder ../Dataset\\Prostate-AEC-100\\02-08-1994-NA-RX SIMULATION-49255: Loaded RTStruct references image(s) that are not contained in input series data. Problematic image has SOP Instance Id: 1.3.6.1.4.1.14519.5.2.1.318018974687115193529751995200758167181\n"
     ]
    },
    {
     "name": "stderr",
     "output_type": "stream",
     "text": [
      " 75%|███████▍  | 94/126 [06:19<01:25,  2.68s/it]"
     ]
    },
    {
     "name": "stdout",
     "output_type": "stream",
     "text": [
      "Error processing folder ../Dataset\\Prostate-AEC-102\\09-22-1992-NA-RX SIMULATION-12336: Loaded RTStruct references image(s) that are not contained in input series data. Problematic image has SOP Instance Id: 1.3.6.1.4.1.14519.5.2.1.99974205625178499890576907774251751574\n"
     ]
    },
    {
     "name": "stderr",
     "output_type": "stream",
     "text": [
      "100%|██████████| 126/126 [08:50<00:00,  4.21s/it]"
     ]
    },
    {
     "name": "stdout",
     "output_type": "stream",
     "text": [
      "Total number of patients: 123\n",
      "Patient Prostate-AEC-001: 179 slices, 24 slices with prostate\n",
      "Patient Prostate-AEC-002: 105 slices, 13 slices with prostate\n",
      "Patient Prostate-AEC-003: 163 slices, 24 slices with prostate\n",
      "Patient Prostate-AEC-004: 179 slices, 31 slices with prostate\n",
      "Patient Prostate-AEC-005: 166 slices, 25 slices with prostate\n",
      "Patient Prostate-AEC-006: 161 slices, 29 slices with prostate\n",
      "Patient Prostate-AEC-007: 193 slices, 43 slices with prostate\n",
      "Patient Prostate-AEC-008: 178 slices, 34 slices with prostate\n",
      "Patient Prostate-AEC-009: 189 slices, 26 slices with prostate\n",
      "Patient Prostate-AEC-010: 159 slices, 21 slices with prostate\n",
      "Patient Prostate-AEC-011: 150 slices, 24 slices with prostate\n",
      "Patient Prostate-AEC-012: 158 slices, 23 slices with prostate\n",
      "Patient Prostate-AEC-013: 171 slices, 23 slices with prostate\n",
      "Patient Prostate-AEC-014: 162 slices, 40 slices with prostate\n",
      "Patient Prostate-AEC-015: 167 slices, 34 slices with prostate\n",
      "Patient Prostate-AEC-016: 149 slices, 24 slices with prostate\n",
      "Patient Prostate-AEC-017: 157 slices, 27 slices with prostate\n",
      "Patient Prostate-AEC-018: 105 slices, 14 slices with prostate\n",
      "Patient Prostate-AEC-019: 182 slices, 34 slices with prostate\n",
      "Patient Prostate-AEC-020: 148 slices, 20 slices with prostate\n",
      "Patient Prostate-AEC-022: 166 slices, 29 slices with prostate\n",
      "Patient Prostate-AEC-023: 128 slices, 20 slices with prostate\n",
      "Patient Prostate-AEC-024: 150 slices, 32 slices with prostate\n",
      "Patient Prostate-AEC-025: 161 slices, 29 slices with prostate\n",
      "Patient Prostate-AEC-026: 164 slices, 35 slices with prostate\n",
      "Patient Prostate-AEC-027: 152 slices, 18 slices with prostate\n",
      "Patient Prostate-AEC-028: 182 slices, 25 slices with prostate\n",
      "Patient Prostate-AEC-029: 149 slices, 26 slices with prostate\n",
      "Patient Prostate-AEC-030: 124 slices, 28 slices with prostate\n",
      "Patient Prostate-AEC-031: 192 slices, 30 slices with prostate\n",
      "Patient Prostate-AEC-033: 200 slices, 31 slices with prostate\n",
      "Patient Prostate-AEC-034: 244 slices, 30 slices with prostate\n",
      "Patient Prostate-AEC-035: 188 slices, 27 slices with prostate\n",
      "Patient Prostate-AEC-036: 152 slices, 31 slices with prostate\n",
      "Patient Prostate-AEC-037: 167 slices, 23 slices with prostate\n",
      "Patient Prostate-AEC-038: 177 slices, 44 slices with prostate\n",
      "Patient Prostate-AEC-039: 165 slices, 23 slices with prostate\n",
      "Patient Prostate-AEC-040: 163 slices, 27 slices with prostate\n",
      "Patient Prostate-AEC-041: 203 slices, 23 slices with prostate\n",
      "Patient Prostate-AEC-042: 171 slices, 32 slices with prostate\n",
      "Patient Prostate-AEC-044: 166 slices, 23 slices with prostate\n",
      "Patient Prostate-AEC-045: 167 slices, 25 slices with prostate\n",
      "Patient Prostate-AEC-046: 210 slices, 17 slices with prostate\n",
      "Patient Prostate-AEC-047: 172 slices, 32 slices with prostate\n",
      "Patient Prostate-AEC-048: 164 slices, 30 slices with prostate\n",
      "Patient Prostate-AEC-049: 183 slices, 28 slices with prostate\n",
      "Patient Prostate-AEC-050: 172 slices, 32 slices with prostate\n",
      "Patient Prostate-AEC-051: 178 slices, 28 slices with prostate\n",
      "Patient Prostate-AEC-052: 170 slices, 22 slices with prostate\n",
      "Patient Prostate-AEC-053: 110 slices, 19 slices with prostate\n",
      "Patient Prostate-AEC-054: 164 slices, 30 slices with prostate\n",
      "Patient Prostate-AEC-055: 171 slices, 24 slices with prostate\n",
      "Patient Prostate-AEC-056: 201 slices, 22 slices with prostate\n",
      "Patient Prostate-AEC-057: 165 slices, 19 slices with prostate\n",
      "Patient Prostate-AEC-058: 165 slices, 28 slices with prostate\n",
      "Patient Prostate-AEC-059: 174 slices, 30 slices with prostate\n",
      "Patient Prostate-AEC-060: 158 slices, 40 slices with prostate\n",
      "Patient Prostate-AEC-061: 161 slices, 26 slices with prostate\n",
      "Patient Prostate-AEC-062: 179 slices, 21 slices with prostate\n",
      "Patient Prostate-AEC-063: 171 slices, 32 slices with prostate\n",
      "Patient Prostate-AEC-064: 162 slices, 29 slices with prostate\n",
      "Patient Prostate-AEC-065: 148 slices, 23 slices with prostate\n",
      "Patient Prostate-AEC-066: 114 slices, 30 slices with prostate\n",
      "Patient Prostate-AEC-067: 182 slices, 25 slices with prostate\n",
      "Patient Prostate-AEC-068: 158 slices, 30 slices with prostate\n",
      "Patient Prostate-AEC-069: 159 slices, 26 slices with prostate\n",
      "Patient Prostate-AEC-070: 164 slices, 29 slices with prostate\n",
      "Patient Prostate-AEC-071: 167 slices, 21 slices with prostate\n",
      "Patient Prostate-AEC-073: 117 slices, 15 slices with prostate\n",
      "Patient Prostate-AEC-074: 181 slices, 25 slices with prostate\n",
      "Patient Prostate-AEC-075: 86 slices, 16 slices with prostate\n",
      "Patient Prostate-AEC-076: 165 slices, 34 slices with prostate\n",
      "Patient Prostate-AEC-078: 223 slices, 22 slices with prostate\n",
      "Patient Prostate-AEC-079: 169 slices, 29 slices with prostate\n",
      "Patient Prostate-AEC-080: 148 slices, 25 slices with prostate\n",
      "Patient Prostate-AEC-082: 159 slices, 29 slices with prostate\n",
      "Patient Prostate-AEC-085: 165 slices, 21 slices with prostate\n",
      "Patient Prostate-AEC-086: 151 slices, 24 slices with prostate\n",
      "Patient Prostate-AEC-087: 157 slices, 27 slices with prostate\n",
      "Patient Prostate-AEC-089: 162 slices, 26 slices with prostate\n",
      "Patient Prostate-AEC-090: 162 slices, 28 slices with prostate\n",
      "Patient Prostate-AEC-091: 192 slices, 32 slices with prostate\n",
      "Patient Prostate-AEC-092: 172 slices, 27 slices with prostate\n",
      "Patient Prostate-AEC-093: 161 slices, 30 slices with prostate\n",
      "Patient Prostate-AEC-094: 167 slices, 23 slices with prostate\n",
      "Patient Prostate-AEC-095: 159 slices, 24 slices with prostate\n",
      "Patient Prostate-AEC-096: 158 slices, 30 slices with prostate\n",
      "Patient Prostate-AEC-097: 184 slices, 33 slices with prostate\n",
      "Patient Prostate-AEC-098: 152 slices, 31 slices with prostate\n",
      "Patient Prostate-AEC-099: 160 slices, 24 slices with prostate\n",
      "Patient Prostate-AEC-101: 168 slices, 35 slices with prostate\n",
      "Patient Prostate-AEC-103: 176 slices, 22 slices with prostate\n",
      "Patient Prostate-AEC-104: 174 slices, 23 slices with prostate\n",
      "Patient Prostate-AEC-105: 144 slices, 25 slices with prostate\n",
      "Patient Prostate-AEC-106: 154 slices, 24 slices with prostate\n",
      "Patient Prostate-AEC-107: 155 slices, 31 slices with prostate\n",
      "Patient Prostate-AEC-108: 170 slices, 24 slices with prostate\n",
      "Patient Prostate-AEC-109: 157 slices, 25 slices with prostate\n",
      "Patient Prostate-AEC-110: 105 slices, 17 slices with prostate\n",
      "Patient Prostate-AEC-111: 211 slices, 28 slices with prostate\n",
      "Patient Prostate-AEC-112: 184 slices, 20 slices with prostate\n",
      "Patient Prostate-AEC-113: 273 slices, 57 slices with prostate\n",
      "Patient Prostate-AEC-114: 215 slices, 28 slices with prostate\n",
      "Patient Prostate-AEC-115: 183 slices, 27 slices with prostate\n",
      "Patient Prostate-AEC-116: 181 slices, 22 slices with prostate\n",
      "Patient Prostate-AEC-117: 299 slices, 46 slices with prostate\n",
      "Patient Prostate-AEC-118: 185 slices, 24 slices with prostate\n",
      "Patient Prostate-AEC-119: 186 slices, 26 slices with prostate\n",
      "Patient Prostate-AEC-120: 273 slices, 49 slices with prostate\n",
      "Patient Prostate-AEC-121: 250 slices, 37 slices with prostate\n",
      "Patient Prostate-AEC-122: 273 slices, 54 slices with prostate\n",
      "Patient Prostate-AEC-123: 224 slices, 36 slices with prostate\n",
      "Patient Prostate-AEC-124: 379 slices, 70 slices with prostate\n",
      "Patient Prostate-AEC-125: 143 slices, 17 slices with prostate\n",
      "Patient Prostate-AEC-126: 301 slices, 52 slices with prostate\n",
      "Patient Prostate-AEC-127: 224 slices, 15 slices with prostate\n",
      "Patient Prostate-AEC-128: 197 slices, 21 slices with prostate\n",
      "Patient Prostate-AEC-129: 255 slices, 38 slices with prostate\n",
      "Patient Prostate-AEC-130: 272 slices, 74 slices with prostate\n",
      "Patient Prostate-AEC-131: 299 slices, 58 slices with prostate\n",
      "Patient Prostate-AEC-132: 315 slices, 44 slices with prostate\n",
      "Patient Prostate-AEC-133: 290 slices, 41 slices with prostate\n",
      "Patient Prostate-AEC-134: 251 slices, 31 slices with prostate\n"
     ]
    },
    {
     "name": "stderr",
     "output_type": "stream",
     "text": [
      "\n"
     ]
    }
   ],
   "source": [
    "# Example usage\n",
    "dataset_path = '../Dataset'  # Path to the dataset directory\n",
    "total_patients, total_slices, prostate_slices = calculate_patient_statistics(dataset_path)\n",
    "\n",
    "# Output results\n",
    "print(f\"Total number of patients: {total_patients}\")\n",
    "for patient in total_slices:\n",
    "    print(f\"Patient {patient}: {total_slices[patient]} slices, {prostate_slices[patient]} slices with prostate\")"
   ]
  },
  {
   "cell_type": "code",
   "execution_count": 5,
   "metadata": {},
   "outputs": [],
   "source": [
    "import os\n",
    "import pandas as pd\n",
    "\n",
    "def save_results_to_excel(total_patients, total_slices, prostate_slices, output_file):\n",
    "    # Create the directory for the file if it doesn't exist\n",
    "    output_dir = os.path.dirname(output_file)\n",
    "    if output_dir and not os.path.exists(output_dir):\n",
    "        os.makedirs(output_dir)\n",
    "    \n",
    "    # Create a DataFrame from the results\n",
    "    data = {\n",
    "        'Patient ID': list(total_slices.keys()),\n",
    "        'Total Slices': list(total_slices.values()),\n",
    "        'Slices with Prostate': list(prostate_slices.values())\n",
    "    }\n",
    "    df = pd.DataFrame(data)\n",
    "    \n",
    "    # Save the DataFrame to an Excel file\n",
    "    df.to_excel(output_file, index=False)\n",
    "    print(f\"Results saved to {output_file}\")"
   ]
  },
  {
   "cell_type": "code",
   "execution_count": 7,
   "metadata": {},
   "outputs": [
    {
     "name": "stderr",
     "output_type": "stream",
     "text": [
      "  0%|          | 0/126 [00:00<?, ?it/s]"
     ]
    },
    {
     "name": "stderr",
     "output_type": "stream",
     "text": [
      " 55%|█████▍    | 69/126 [04:16<02:09,  2.28s/it]"
     ]
    },
    {
     "name": "stdout",
     "output_type": "stream",
     "text": [
      "Error processing folder ../Dataset\\Prostate-AEC-072\\01-20-2004-NA-RX SIMULATION-39006: 'Dataset' object has no attribute 'ContourSequence'\n"
     ]
    },
    {
     "name": "stderr",
     "output_type": "stream",
     "text": [
      " 73%|███████▎  | 92/126 [05:32<01:15,  2.22s/it]"
     ]
    },
    {
     "name": "stdout",
     "output_type": "stream",
     "text": [
      "Error processing folder ../Dataset\\Prostate-AEC-100\\02-08-1994-NA-RX SIMULATION-49255: Loaded RTStruct references image(s) that are not contained in input series data. Problematic image has SOP Instance Id: 1.3.6.1.4.1.14519.5.2.1.318018974687115193529751995200758167181\n"
     ]
    },
    {
     "name": "stderr",
     "output_type": "stream",
     "text": [
      " 75%|███████▍  | 94/126 [05:40<01:41,  3.16s/it]"
     ]
    },
    {
     "name": "stdout",
     "output_type": "stream",
     "text": [
      "Error processing folder ../Dataset\\Prostate-AEC-102\\09-22-1992-NA-RX SIMULATION-12336: Loaded RTStruct references image(s) that are not contained in input series data. Problematic image has SOP Instance Id: 1.3.6.1.4.1.14519.5.2.1.99974205625178499890576907774251751574\n"
     ]
    },
    {
     "name": "stderr",
     "output_type": "stream",
     "text": [
      "100%|██████████| 126/126 [07:46<00:00,  3.70s/it]\n"
     ]
    },
    {
     "name": "stdout",
     "output_type": "stream",
     "text": [
      "Results saved to ../patient_statistics.xlsx\n"
     ]
    }
   ],
   "source": [
    "# Example usage\n",
    "dataset_path = '../Dataset'  # Path to the dataset directory\n",
    "output_excel_file = '../patient_statistics.xlsx'  # Output Excel file path\n",
    "\n",
    "total_patients, total_slices, prostate_slices = calculate_patient_statistics(dataset_path)\n",
    "\n",
    "# Save the results to an Excel file\n",
    "save_results_to_excel(total_patients, total_slices, prostate_slices, output_excel_file)"
   ]
  },
  {
   "cell_type": "code",
   "execution_count": null,
   "metadata": {},
   "outputs": [],
   "source": []
  }
 ],
 "metadata": {
  "kernelspec": {
   "display_name": "base",
   "language": "python",
   "name": "python3"
  },
  "language_info": {
   "codemirror_mode": {
    "name": "ipython",
    "version": 3
   },
   "file_extension": ".py",
   "mimetype": "text/x-python",
   "name": "python",
   "nbconvert_exporter": "python",
   "pygments_lexer": "ipython3",
   "version": "3.12.3"
  }
 },
 "nbformat": 4,
 "nbformat_minor": 2
}
