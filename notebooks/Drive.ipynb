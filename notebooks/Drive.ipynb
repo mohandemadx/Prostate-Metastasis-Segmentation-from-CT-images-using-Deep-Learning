{
 "cells": [
  {
   "cell_type": "code",
   "execution_count": 28,
   "metadata": {},
   "outputs": [
    {
     "name": "stdout",
     "output_type": "stream",
     "text": [
      "Code: 0af7ffe12a\n",
      "Last Four Digits: 0000\n",
      "Last Four Digits: 08-12-2005\n"
     ]
    }
   ],
   "source": [
    "import re\n",
    "\n",
    "# Filename\n",
    "filename = \"fdg_0af7ffe12a_08-12-2005-NA-PET-CT Ganzkoerper  primaer mit KM-96698_0000.nii.gz\"\n",
    "\n",
    "# Updated regular expression\n",
    "pattern = r\"fdg_(.*?)_(\\d{2}-\\d{2}-\\d{4}).*?(\\d{5})_(\\d{4}).nii.gz\"\n",
    "\n",
    "# Search for matches\n",
    "match = re.search(pattern, filename)\n",
    "\n",
    "if match:\n",
    "    code = match.group(1)  # Code after fdg_ and before the date\n",
    "    date = match.group(2)\n",
    "    last_four = match.group(4)  # Last 4 digits before .nii.gz\n",
    "    print(\"Code:\", code)\n",
    "    print(\"Last Four Digits:\", last_four)\n",
    "    print(\"Last Four Digits:\", date)\n",
    "else:\n",
    "    print(\"Pattern not found!\")\n"
   ]
  },
  {
   "cell_type": "code",
   "execution_count": 30,
   "metadata": {},
   "outputs": [
    {
     "name": "stdout",
     "output_type": "stream",
     "text": [
      "CT\n"
     ]
    }
   ],
   "source": [
    "if last_four == '0000':\n",
    "    modality = 'CT'\n",
    "elif last_four == '0001':\n",
    "    modality = 'PET'\n",
    "else:\n",
    "    print(f\"Unkowun Modality, Last Four: {last_four} \")\n",
    "    \n",
    "print(modality)"
   ]
  },
  {
   "cell_type": "code",
   "execution_count": 31,
   "metadata": {},
   "outputs": [
    {
     "name": "stdout",
     "output_type": "stream",
     "text": [
      "Sub-0af7ffe12a_08-12-2005_CT\n"
     ]
    }
   ],
   "source": [
    "file_name = f'Sub-{code}_{date}_{modality}'\n",
    "\n",
    "print(file_name)"
   ]
  }
 ],
 "metadata": {
  "kernelspec": {
   "display_name": "Python 3",
   "language": "python",
   "name": "python3"
  },
  "language_info": {
   "codemirror_mode": {
    "name": "ipython",
    "version": 3
   },
   "file_extension": ".py",
   "mimetype": "text/x-python",
   "name": "python",
   "nbconvert_exporter": "python",
   "pygments_lexer": "ipython3",
   "version": "3.12.5"
  }
 },
 "nbformat": 4,
 "nbformat_minor": 2
}
